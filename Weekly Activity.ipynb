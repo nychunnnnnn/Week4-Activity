{
 "cells": [
  {
   "cell_type": "code",
   "execution_count": 2,
   "id": "6221467e",
   "metadata": {},
   "outputs": [],
   "source": [
    "import os \n",
    "os.chdir(\"C:/Users/yichu/Desktop/yichun/UTAR/Y2S3/Mini Project/Week 4\")"
   ]
  },
  {
   "cell_type": "code",
   "execution_count": 3,
   "id": "4caebb68",
   "metadata": {},
   "outputs": [
    {
     "data": {
      "text/plain": [
       "'C:\\\\Users\\\\yichu\\\\Desktop\\\\yichun\\\\UTAR\\\\Y2S3\\\\Mini Project\\\\Week 4'"
      ]
     },
     "execution_count": 3,
     "metadata": {},
     "output_type": "execute_result"
    }
   ],
   "source": [
    "%pwd"
   ]
  },
  {
   "cell_type": "markdown",
   "id": "79d7824a",
   "metadata": {},
   "source": [
    "# Setup"
   ]
  },
  {
   "cell_type": "code",
   "execution_count": 4,
   "id": "895fa89a",
   "metadata": {},
   "outputs": [
    {
     "data": {
      "text/plain": [
       "True"
      ]
     },
     "execution_count": 4,
     "metadata": {},
     "output_type": "execute_result"
    }
   ],
   "source": [
    "import sys\n",
    "# Python 3.7 is required\n",
    "assert sys.version_info >= (3,7)\n",
    "\n",
    "import cv2 as cv\n",
    "import numpy as np\n",
    "\n",
    "# For reproducibility,\n",
    "np.random.seed(99)\n",
    "\n",
    "# Make sure that optimization is enabled\n",
    "if not cv.useOptimized():\n",
    "    cv.setUseOptimized(True)\n",
    "\n",
    "cv.useOptimized()"
   ]
  },
  {
   "cell_type": "markdown",
   "id": "232f0b6d",
   "metadata": {},
   "source": [
    "# Exercise 1\n",
    "\n",
    "- Suggest two ways and write codes to display two images simultaneously. \n",
    "- You can use any image snapped from your handphone, downloaded from internet or images from week 4 materials on MS teams. \n",
    "- The two images are a color image and its corresponding grayscale image."
   ]
  },
  {
   "cell_type": "markdown",
   "id": "bdc8853b",
   "metadata": {},
   "source": [
    "### Method 1: Append Images via vstack() / hstack() from Numpy"
   ]
  },
  {
   "cell_type": "markdown",
   "id": "c37c2481",
   "metadata": {},
   "source": [
    "- Read image from directory"
   ]
  },
  {
   "cell_type": "code",
   "execution_count": 89,
   "id": "b093e054",
   "metadata": {},
   "outputs": [],
   "source": [
    "img = cv.imread('pythonmeme.jpg')"
   ]
  },
  {
   "cell_type": "markdown",
   "id": "f9a7dded",
   "metadata": {},
   "source": [
    "- Convert the image to gray scale "
   ]
  },
  {
   "cell_type": "code",
   "execution_count": 90,
   "id": "6274f68e",
   "metadata": {},
   "outputs": [],
   "source": [
    "gray = cv.cvtColor(img, cv.COLOR_BGR2GRAY) # grayscale"
   ]
  },
  {
   "cell_type": "markdown",
   "id": "b9d358b4",
   "metadata": {},
   "source": [
    "- Convert the grey image back to BGR colour space \n",
    "- To ressolve different array dimensions problem \n",
    "    - convert the grey image back to BGR colour space"
   ]
  },
  {
   "cell_type": "code",
   "execution_count": 91,
   "id": "89b38a6e",
   "metadata": {},
   "outputs": [],
   "source": [
    "grayInBGR = cv.cvtColor(gray, cv.COLOR_GRAY2BGR)"
   ]
  },
  {
   "cell_type": "markdown",
   "id": "6fb597e0",
   "metadata": {},
   "source": [
    "- Append both images vertically / horizontally"
   ]
  },
  {
   "cell_type": "code",
   "execution_count": 92,
   "id": "c4f09373",
   "metadata": {},
   "outputs": [],
   "source": [
    "ver = np.vstack((img, grayInBGR))\n",
    "hor = np.hstack((img, grayInBGR))"
   ]
  },
  {
   "cell_type": "markdown",
   "id": "e9602847",
   "metadata": {},
   "source": [
    "- Display the images"
   ]
  },
  {
   "cell_type": "code",
   "execution_count": 93,
   "id": "9f569115",
   "metadata": {},
   "outputs": [],
   "source": [
    "cv.imshow('Vertically Concatenated', ver)\n",
    "cv.imshow('Horizontally Concatenated', hor)\n",
    "\n",
    "cv.waitKey(0) \n",
    "cv.destroyAllWindows()"
   ]
  },
  {
   "cell_type": "markdown",
   "id": "460c9ff1",
   "metadata": {},
   "source": [
    "### Method 2: Concatenate Images via vconcat() / hconcat() from OpenCV"
   ]
  },
  {
   "cell_type": "code",
   "execution_count": 97,
   "id": "4743bb2a",
   "metadata": {},
   "outputs": [],
   "source": [
    "iu = cv.imread('iu.jpg')\n",
    "gray_iu = cv.cvtColor(iu, cv.COLOR_BGR2GRAY) # grayscale\n",
    "gray_iu_in_BGR_space = cv.cvtColor(gray_iu,cv.COLOR_GRAY2BGR)"
   ]
  },
  {
   "cell_type": "code",
   "execution_count": 98,
   "id": "b3a2a450",
   "metadata": {},
   "outputs": [],
   "source": [
    "ver = cv.vconcat((iu, gray_iu_in_BGR_space))\n",
    "hor = cv.hconcat((iu, gray_iu_in_BGR_space))"
   ]
  },
  {
   "cell_type": "code",
   "execution_count": 99,
   "id": "41f4eaa0",
   "metadata": {},
   "outputs": [],
   "source": [
    "cv.imshow('Vertically Appended', ver)\n",
    "cv.imshow('Horizontally Appended', hor)\n",
    "\n",
    "cv.waitKey(0) \n",
    "cv.destroyAllWindows()"
   ]
  },
  {
   "cell_type": "markdown",
   "id": "76f0b164",
   "metadata": {},
   "source": [
    "## Exercise 2\n",
    "\n",
    "Write codes that performs the following:\n",
    "- Load the video “img_pexels.mp4” into the Python environment, resize it and display the videos with smaller frames \n",
    "    * (The frames can be of any size, as long as it is smaller). \n",
    "    * You can specify an arbitrary frame rate.\n",
    "- Save it as a separate files: “smaller_img_pexels.avi” or \"smaller_img_pexels.mp4\""
   ]
  },
  {
   "cell_type": "markdown",
   "id": "bbdd79a8",
   "metadata": {},
   "source": [
    "### Find out the frames of the original video"
   ]
  },
  {
   "cell_type": "code",
   "execution_count": 100,
   "id": "4ccdbe6f",
   "metadata": {},
   "outputs": [
    {
     "name": "stdout",
     "output_type": "stream",
     "text": [
      "(1080, 1920)\n"
     ]
    }
   ],
   "source": [
    "cap = cv.VideoCapture('img_pexels.mp4')\n",
    "\n",
    "# Frame of the original video\n",
    "frame_width = int(cap.get(3))\n",
    "frame_height = int(cap.get(4))\n",
    "   \n",
    "size = (frame_width, frame_height)\n",
    "print (size)"
   ]
  },
  {
   "cell_type": "markdown",
   "id": "a765699c",
   "metadata": {},
   "source": [
    "### Resize the video with smaller frame _(240p)_\n",
    "### Save the video in _.MP4_"
   ]
  },
  {
   "cell_type": "code",
   "execution_count": 101,
   "id": "66c0b1f8",
   "metadata": {},
   "outputs": [
    {
     "name": "stdout",
     "output_type": "stream",
     "text": [
      "The resized video was saved successfully\n"
     ]
    }
   ],
   "source": [
    "# Create a VideoCapture object\n",
    "cap = cv.VideoCapture('img_pexels.mp4')\n",
    "\n",
    "fourcc = cv.VideoWriter_fourcc(*'MP4V')\n",
    "output = cv.VideoWriter('smaller_img_pexels.mp4', fourcc, 60, (240, 426), True)\n",
    "\n",
    "# Check if the object has been created successfully\n",
    "if not cap.isOpened():\n",
    "    print(\"Unable to create video\")\n",
    "\n",
    "# Read until the video is completed.\n",
    "while cap.isOpened():\n",
    "    ret, frame = cap.read()\n",
    "    \n",
    "    # if frame is read then ret is True\n",
    "    if not ret:\n",
    "        print(\"Can't receive frame.\")\n",
    "        break\n",
    "    \n",
    "    cv.namedWindow('frame', cv.WINDOW_NORMAL)\n",
    "    \n",
    "    # Change the resolution to 240p\n",
    "    resize = cv.resize(frame,(240, 426), fx=0, fy=0, interpolation = cv.INTER_CUBIC)\n",
    "    # Save the new frames to the video file\n",
    "    output.write(resize)\n",
    "    \n",
    "    cv.imshow('frame', resize)\n",
    "    # Press Esc key to exit (27 is ASCII code for Esc). \n",
    "    if cv.waitKey(1) & 0xFF == 27:\n",
    "        break\n",
    "        \n",
    "# destroy the constructor\n",
    "cap.release()\n",
    "output.release()\n",
    "cv.destroyAllWindows()\n",
    "\n",
    "print(\"The resized video was saved successfully\")"
   ]
  },
  {
   "cell_type": "markdown",
   "id": "60bc567a",
   "metadata": {},
   "source": [
    "# Exercise 3\n",
    "- Create a random noise color and grayscale image. \n",
    "- You can set a custom width and height. (Hint: use Numpy functions like np.array and np.reshape.)"
   ]
  },
  {
   "cell_type": "markdown",
   "id": "291e0dff",
   "metadata": {},
   "source": [
    "### Create random noise grayscale image"
   ]
  },
  {
   "cell_type": "code",
   "execution_count": 105,
   "id": "edd76401",
   "metadata": {},
   "outputs": [],
   "source": [
    "noise = np.array(np.random.randint(0, 256, (400, 400)), dtype=np.uint8)\n",
    "cv.imshow('Noise Grayscale Image 1', noise)\n",
    "cv.waitKey(0)\n",
    "cv.destroyAllWindows()"
   ]
  },
  {
   "cell_type": "code",
   "execution_count": 106,
   "id": "909f2ffd",
   "metadata": {},
   "outputs": [],
   "source": [
    "gray = np.random.randint(256, size=(500, 1000)).astype('uint8')\n",
    "cv.imshow('Noise Grayscale Image 2',gray)\n",
    "cv.waitKey(0)\n",
    "cv.destroyAllWindows()"
   ]
  },
  {
   "cell_type": "markdown",
   "id": "5d38b082",
   "metadata": {},
   "source": [
    "### Create random noise colour image"
   ]
  },
  {
   "cell_type": "code",
   "execution_count": 107,
   "id": "10e84b59",
   "metadata": {},
   "outputs": [],
   "source": [
    "noise_colour = np.reshape(np.random.randint(256, size=(1500, 1000)).astype('uint8'),(500,1000,3))\n",
    "cv.imshow('Noise Colour Image', noise_colour)\n",
    "cv.waitKey(0)\n",
    "cv.destroyAllWindows()"
   ]
  }
 ],
 "metadata": {
  "kernelspec": {
   "display_name": "Python 3 (ipykernel)",
   "language": "python",
   "name": "python3"
  },
  "language_info": {
   "codemirror_mode": {
    "name": "ipython",
    "version": 3
   },
   "file_extension": ".py",
   "mimetype": "text/x-python",
   "name": "python",
   "nbconvert_exporter": "python",
   "pygments_lexer": "ipython3",
   "version": "3.9.12"
  }
 },
 "nbformat": 4,
 "nbformat_minor": 5
}
